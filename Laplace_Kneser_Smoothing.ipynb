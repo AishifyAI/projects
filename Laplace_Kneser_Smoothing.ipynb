{
 "cells": [
  {
   "cell_type": "markdown",
   "metadata": {},
   "source": [
    "Smoothing Techniques in N-gram Models\n"
   ]
  },
  {
   "cell_type": "markdown",
   "metadata": {},
   "source": [
    "***Step 1 - Initial Analysis***"
   ]
  },
  {
   "cell_type": "markdown",
   "metadata": {},
   "source": [
    "Smoothing:\n",
    "\n",
    "Smoothing is a crucial process in building n-gram language models as it addresses the issue of data sparsity. In real-world scenarios, models often come across n-grams during testing that were not part of the training data. When this occurs, the model assigns a probability of zero to these unseen n-grams, which disrupts the prediction process and reduces the model's reliability. This challenge is particularly significant in applications like autocomplete and predictive text, where zero probabilities prevent the system from offering meaningful suggestions. Smoothing resolves this problem by assigning a small probability to all n-grams, including those not observed in training, allowing the model to perform consistently even with limited data.\n",
    "\n",
    "Two widely used smoothing techniques:\n",
    "\n",
    "Laplace Smoothing: This is a straightforward method which adds a small constant, usually 1, to the count of every possible n-gram. This ensures that no n-gram has a probability of zero, making the model more robust when encountering new word combinations. However, a limitation of this method is that it may overestimate the probabilities of rare n-grams, which could impact overall accuracy.\n",
    "\n",
    "Kneser-Ney Smoothing: This more advanced method emphasizes the diversity of contexts in which words appear, rather than relying solely on their frequency counts. It redistributes probabilities intelligently by considering lower-order n-grams, ensuring that rare combinations receive more realistic probabilities. Kneser-Ney smoothing is often considered highly effective for improving prediction accuracy, especially when training data is limited or when dealing with complex linguistic patterns.\n",
    "\n",
    "By applying these smoothing techniques, language models can effectively manage rare or unseen n-grams, leading to better generalization and more accurate predictions. For example, in an autocomplete application, smoothing enables the system to suggest appropriate words or phrases even when the input includes unfamiliar combinations. This greatly enhances the model’s usability and ensures its reliability in real-world tasks."
   ]
  },
  {
   "cell_type": "markdown",
   "metadata": {},
   "source": [
    "***Step 2: Data Preparation***"
   ]
  },
  {
   "cell_type": "markdown",
   "metadata": {},
   "source": [
    "Import necessary packages"
   ]
  },
  {
   "cell_type": "code",
   "execution_count": 1,
   "metadata": {},
   "outputs": [],
   "source": [
    "# General Libraries\n",
    "import pandas as pd\n",
    "import numpy as np\n",
    "import math\n",
    "import string\n",
    "from collections import Counter\n",
    "import re\n",
    "\n",
    "# NLP Libraries\n",
    "import nltk\n",
    "from nltk.util import ngrams\n",
    "from nltk.tokenize import word_tokenize\n",
    "\n",
    "# Visualization\n",
    "import matplotlib.pyplot as plt"
   ]
  },
  {
   "cell_type": "markdown",
   "metadata": {},
   "source": [
    "Print the first few lines of the dataset and prepare testset"
   ]
  },
  {
   "cell_type": "code",
   "execution_count": 2,
   "metadata": {},
   "outputs": [
    {
     "name": "stdout",
     "output_type": "stream",
     "text": [
      "   ID                             Title  \\\n",
      "0  10  Canadian Society of Soil Science   \n",
      "1   1              King Arthur's family   \n",
      "2   6                 Ralitsa Vassileva   \n",
      "3   2         Tom Mooney (rugby league)   \n",
      "4   3                   Topal (surname)   \n",
      "\n",
      "                                                 URL  \\\n",
      "0  https://en.wikipedia.org/wiki/Canadian_Society...   \n",
      "1  https://en.wikipedia.org/wiki/King_Arthur's_fa...   \n",
      "2    https://en.wikipedia.org/wiki/Ralitsa_Vassileva   \n",
      "3  https://en.wikipedia.org/wiki/Tom_Mooney_(rugb...   \n",
      "4      https://en.wikipedia.org/wiki/Topal_(surname)   \n",
      "\n",
      "                                Introduction/Summary  \\\n",
      "0  The Canadian Society of Soil Science (CSSS) is...   \n",
      "1                                                NaN   \n",
      "2  Ralitsa B. Vassileva (Bulgarian: Ралица Василе...   \n",
      "3                                                NaN   \n",
      "4  Topal is a Turkish word meaning \"lame\" and may...   \n",
      "\n",
      "                                                Body  \\\n",
      "0  Canadian non-profit organization\\nCanadian Soc...   \n",
      "1  Family\\n\\n\\nArthur in William Henry Margetson'...   \n",
      "2  Bulgarian journalist\\nRalitsa VassilevaBornRal...   \n",
      "3  Australian rugby league footballer\\nFor other ...   \n",
      "4  TopalPronunciationTurkish: [ˈtopaɫ]OriginWord/...   \n",
      "\n",
      "                                   Sections/Headings  \\\n",
      "0  ['Contents', 'Administration[edit]', 'Publicat...   \n",
      "1  ['Contents', 'Medieval Welsh tradition[edit]',...   \n",
      "2  ['Contents', 'Career[edit]', 'Awards, honours ...   \n",
      "3  ['Contents', 'Career[edit]', 'References[edit]...   \n",
      "4  ['Contents', 'Surnames of contemporary people[...   \n",
      "\n",
      "                                          References  \\\n",
      "0  ['https://archive.org/details/literatureofsoil...   \n",
      "1  ['http://www.culhwch.info/index.html#footnote1...   \n",
      "2  ['https://grady.uga.edu/faculty/vassileva/', '...   \n",
      "3  ['http://www.yesterdayshero.com.au/PlayerProfi...   \n",
      "4                                                 []   \n",
      "\n",
      "                                          Categories  \\\n",
      "0  ['Soil and crop science organizations', 'Agric...   \n",
      "1  ['Family of King Arthur', 'Legendary royal fam...   \n",
      "2  ['1963 births', 'Living people', 'CNN people',...   \n",
      "3  ['1952 births', 'Living people', 'Australian r...   \n",
      "4          ['Surnames', 'Turkish-language surnames']   \n",
      "\n",
      "                                             Infobox  \n",
      "0  {'Abbreviation': 'CSSS', 'Formation': '1954[1]...  \n",
      "1                                                 {}  \n",
      "2  {'Born': 'Ralitsa Vassileva (1963-06-08) 8 Jun...  \n",
      "3  {'Born': '(1952-03-16) 16 March 1952 (age\\xa07...  \n",
      "4  {'Pronunciation': 'Turkish: [ˈtopaɫ]', 'Word/n...  \n"
     ]
    }
   ],
   "source": [
    "# Path to the Excel file\n",
    "file_path = r\"E:\\Aish's Office\\Mtech\\assignments\\NLP\\Assignment 1 Dataset.xlsx\"\n",
    "\n",
    "# Load the Excel file into a Pandas DataFrame\n",
    "dataset = pd.read_excel(file_path, engine='openpyxl')  # Use the openpyxl engine for .xlsx files\n",
    "\n",
    "# Display the first few rows of the dataset\n",
    "print(dataset.head(5))"
   ]
  },
  {
   "cell_type": "code",
   "execution_count": 3,
   "metadata": {},
   "outputs": [],
   "source": [
    "# Remove any rows with missing values to ensure the dataset is clean and ready for processing\n",
    "dataset = dataset.dropna()"
   ]
  },
  {
   "cell_type": "code",
   "execution_count": 4,
   "metadata": {},
   "outputs": [],
   "source": [
    "# Define a dictionary containing various textual examples across multiple domains\n",
    "testset = {\n",
    "    \"Introduction\": [\n",
    "        \"Seasonal forests, with 20-50% deciduous tree coverage, adapt to fluctuating climatic conditions marked by intense summer rains and dry seasons.\",\n",
    "        \"Medical advancements, such as image analysis software, are transforming the way diseases like cancer and cardiovascular conditions are diagnosed and treated.\",\n",
    "        \"Historical narratives about prominent figures in governance, arts, and sciences provide insights into their societal impacts over centuries.\",\n",
    "        \"The study of ancient civilizations through archaeological events uncovers layers of human history and cultural evolution.\",\n",
    "        \"Mathematical frameworks and computational models form the backbone of technological innovation across diverse fields.\",\n",
    "        \"A skilled defender must rely on a combination of tactical planning, physical agility, and seamless coordination with teammates to ensure their team's success on the field, especially in high-pressure tournaments.\",\n",
    "        \"Preparing for a championship often requires rigorous training schedules, mental resilience, and the ability to adapt to ever-changing circumstances, all while maintaining peak performance throughout the competition.\",\n",
    "        \"Studio albums are a reflection of an artist's journey, combining diverse musical influences, innovative production techniques, and thoughtful collaboration to create a lasting impact on audiences worldwide.\",\n",
    "        \"International competitions, featuring athletes from dozens of nations, bring together extraordinary talent and determination, creating a platform for showcasing individual skill and fostering unity through sportsmanship and mutual respect.\",\n",
    "        \"Politicians play a crucial role in shaping policies, addressing the needs of their communities, and implementing programs that aim to improve the quality of life for citizens while balancing economic and social responsibilities.\",\n",
    "        \"Competitive sports events often feature extensive planning, rigorous training schedules, and the ability of participants to adapt to varying challenges, making them a true test of skill and resilience.\",\n",
    "        \"Structured scientific studies, such as those evaluating protein functions or wastewater systems, rely on precise methodologies and repeated testing to ensure accurate and actionable outcomes.\",\n",
    "        \"Television series often explore diverse themes and narratives, requiring a careful balance of character development, episode progression, and audience engagement to sustain long-term success.\",\n",
    "        \"Governance systems in ancient civilizations demonstrate the complexity of managing public affairs, including balancing social reforms and navigating political alliances in ever-changing environments.\",\n",
    "        \"Testing procedures for environmental suitability, such as those for water quality or air purification, are critical for maintaining ecological balance and safeguarding public health.\",\n",
    "        \"Articles discussing advancements in engineering or environmental sciences often emphasize the importance of adhering to rigorous citation standards to support claims and foster academic integrity.\",\n",
    "        \"Entertainment mediums, such as film or television, reflect societal shifts and technological innovations, blending creative storytelling with advancements in visual effects and production quality.\",\n",
    "        \"In global competitions, athletes demonstrate the culmination of years of training and discipline, pushing their physical and mental limits to achieve peak performance and represent their countries.\",\n",
    "        \"Public education systems continually evolve to integrate technological tools and innovative teaching methods, helping students build critical thinking skills and adapt to an ever-changing world.\"\n",
    "        \"Deciduous trees in seasonal forests employ adaptations such as sclerophyllous leaves and drought-resistant features, making them resilient to changing water and temperature conditions.\",\n",
    "        \"Open-source medical software supports complex analysis for conditions like autism, cardiovascular diseases, and various forms of cancer, broadening its applicability in global healthcare.\",\n",
    "        \"Historical accounts of statesmen, artists, and scientists reveal the intricacies of their work and the profound influence they have had on cultural preservation and progress.\",\n",
    "        \"Mathematical concepts, such as symplectomorphisms in classical mechanics, provide a robust foundation for understanding and simulating complex physical phenomena.\",\n",
    "        \"Governance systems are continually evolving through the contributions of key political figures who navigate intricate economic and social reforms to meet emerging challenges.\",\n",
    "        \"Organizations working on environmental issues focus on developing innovative solutions to challenges such as pollution, resource scarcity, and climate change, aiming for sustainable development.\",\n",
    "        \"Large-scale public infrastructure projects often require meticulous planning, collaboration among multiple stakeholders, and adherence to strict safety and quality standards to meet the needs of growing populations.\",\n",
    "        \"Environmental testing methodologies are designed to assess the suitability of resources such as air, water, and soil, ensuring that human and ecological systems remain safe and sustainable.\",\n",
    "        \"Historical accounts of governance and law enforcement often highlight the evolution of administrative roles and responsibilities, reflecting societal priorities and the challenges of maintaining order.\",\n",
    "        \"Advances in scientific research rely on detailed documentation and collaboration across disciplines, enabling the development of innovative technologies and solutions to complex problems.\",\n",
    "        \"Competitive sports leagues focus on fostering talent and creating engaging experiences for both participants and audiences, emphasizing fair play, strategic thinking, and peak physical performance.\",\n",
    "        \"The adaptation of creative works, such as novels or stage plays, into films or television series requires careful reinterpretation of themes and characters to suit different visual and narrative formats.\",\n",
    "        \"Studies in protein structures and functions are fundamental to understanding biological systems and developing treatments for diseases, bridging the gap between molecular biology and medical advancements.\",\n",
    "        \"Technological innovations in transportation systems have transformed how goods and people move, enhancing efficiency, reducing environmental impact, and improving accessibility across urban and rural areas.\",\n",
    "        \"The integration of digital tools in education and workplace environments has revolutionized the way people learn and collaborate, promoting flexibility, accessibility, and personalized experiences.\",\n",
    "        \"Sustainable practices in agriculture and resource management focus on reducing waste, conserving ecosystems, and developing methods that balance human needs with environmental health.\"\n",
    "        \"The structured scientific study revealed intricate details about human ecological interactions.\",\n",
    "        \"Mathematical frameworks and computational models support complex analysis in resource management.\",\n",
    "        \"Evaluating protein structures has been revolutionized by innovative teaching methods.\",\n",
    "        \"Scientific studies often emphasize the importance of air purification in urban and rural settings.\",\n",
    "        \"A study evaluating ancient civilizations demonstrated their ability to adapt to varying challenges.\",\n",
    "        \"Tree coverage plays a critical role in air purification and addressing resource scarcity.\",\n",
    "        \"Efforts in reducing waste and conserving resources highlight environmental suitability.\",\n",
    "        \"Climate change aiming for reduced pollution requires thoughtful collaboration and social reform.\",\n",
    "        \"Environmental issues focus on balancing flexibility and accessibility in urban development.\",\n",
    "        \"Reducing waste while maintaining peak efficiency is essential for fostering talent in conservation efforts.\",\n",
    "        \"Innovative teaching methods foster academic excellence by addressing the need for community accessibility.\",\n",
    "        \"Digital tools in education aim to improve individual skills and foster academic growth.\",\n",
    "        \"Education systems emphasize flexibility and accessibility to enhance individual skill development.\",\n",
    "        \"Coordinating teammates through structured schedules improves outcomes in academic and workplace environments.\",\n",
    "        \"Seamless coordination among stakeholders fosters actionable outcomes and efficient system development.\",\n",
    "        \"Open-source medical software supports addressing needs like autism and cardiovascular disease management.\",\n",
    "        \"Policy addressing the need for community health often includes innovative medical software solutions.\",\n",
    "        \"Reducing waste in healthcare systems emphasizes the importance of flexibility and accessibility.\",\n",
    "        \"The feature of making resilient systems is central to modern medical advancements.\",\n",
    "        \"Autism and cardiovascular disease management require talent and determination to create innovative solutions.\",\n",
    "        \"Public infrastructure projects meet emerging challenges through extensive planning and thoughtful collaboration.\",\n",
    "        \"Balancing urban and rural development represents a strategic shift in governance policies.\",\n",
    "        \"Historical narratives about prominent figures reveal intricacies in governance and law enforcement.\",\n",
    "        \"Governance and law enforcement reforms focus on fostering talent and promoting social reform.\",\n",
    "        \"Transportation systems are revolutionized by addressing needs like resource management and efficiency.\",\n",
    "        \"Blending creative storytelling with visual effects production creates engaging experiences for audiences.\",\n",
    "        \"Reflecting societal priorities in film and television highlights the evolving contribution of key mediums.\",\n",
    "        \"Cultural preservation progresses through thoughtful collaboration and social reform initiatives.\",\n",
    "        \"Mediums like film and television reflect societal priorities and inspire social reform.\",\n",
    "        \"Rigorous training schedules in arts and athletics emphasize the importance of discipline and determination.\"\n",
    "]\n",
    "}\n",
    "\n",
    "# Convert the dictionary into a pandas DataFrame for structured processing and analysis\n",
    "testset = pd.DataFrame(testset)\n"
   ]
  },
  {
   "cell_type": "markdown",
   "metadata": {},
   "source": [
    "Data Preprocessing"
   ]
  },
  {
   "cell_type": "code",
   "execution_count": 5,
   "metadata": {},
   "outputs": [],
   "source": [
    "def data_preprocess(text):\n",
    "    \"\"\"\n",
    "    Tokenizes and preprocesses input text.\n",
    "\n",
    "    Steps:\n",
    "    1. Convert to lowercase.\n",
    "    2. Remove unwanted patterns (e.g., \"[edit]\", structural markers).\n",
    "    3. Remove square brackets and punctuation.\n",
    "    4. Tokenize text.\n",
    "    5. Keep only alphabetic words.\n",
    "    6. Return the cleaned text.\n",
    "\n",
    "    Args:\n",
    "        text (str): Input text to process.\n",
    "\n",
    "    Returns:\n",
    "        str: Preprocessed text.\n",
    "    \"\"\"\n",
    "    # Handle missing or NaN text\n",
    "    if pd.isna(text) or not isinstance(text, str):\n",
    "        return \" \"\n",
    "\n",
    "    try:\n",
    "        # Step 1: Convert to lowercase\n",
    "        text = text.lower()\n",
    "\n",
    "        # Step 2: Remove unwanted patterns\n",
    "        text = re.sub(r'\\[edit\\]', '', text)  # Remove \"[edit]\"\n",
    "        text = re.sub(r'\\b(contents|references|external links|see also|notes|footnotes)\\b', '', text)  # Remove structural markers\n",
    "        text = re.sub(r'[\\[\\]]', '', text)  # Remove square brackets\n",
    "\n",
    "        # Step 3: Remove punctuation\n",
    "        text = text.translate(str.maketrans('', '', string.punctuation))\n",
    "\n",
    "        # Step 4: Tokenize and keep only alphabetic words\n",
    "        words = word_tokenize(text)\n",
    "        words = [word for word in words if word.isalpha()]\n",
    "\n",
    "        # Step 5: Remove extra spaces and return the result\n",
    "        return \" \".join(words).strip()\n",
    "\n",
    "    except Exception as e:\n",
    "        # Handle exceptions gracefully\n",
    "        print(f\"Error processing text: {text}\\nError: {e}\")\n",
    "        return \" \"\n",
    "\n",
    "# For this implementation, We have selected  the \"Introduction\" column from the dataset \n",
    "# to demonstrate the effectiveness of smoothing techniques in a focused and clear manner.\n",
    "\n",
    "dataset['PreProcd_Introduction'] = dataset['Introduction/Summary'].apply(data_preprocess)\n",
    "\n",
    "# List of columns to process the future steps\n",
    "columns_to_process = ['PreProcd_Introduction']"
   ]
  },
  {
   "cell_type": "markdown",
   "metadata": {},
   "source": [
    "Vocabulary Creation and Out-of-Vocabulary (OOV) Word Handling - Functions Initialization"
   ]
  },
  {
   "cell_type": "code",
   "execution_count": 6,
   "metadata": {},
   "outputs": [],
   "source": [
    "# Vocabulary Building and OOV Handling Functions\n",
    "# This section defines functions for creating a vocabulary from dataset, \n",
    "# replacing rare words with an 'UNK' token, and counting OOV words in a dataset.\n",
    "# Function to build vocabulary from dataset for a column\n",
    "\n",
    "def build_vocabulary(column_data, threshold):\n",
    "    all_words = ' '.join(column_data).split()\n",
    "    word_counts = Counter(all_words)\n",
    "    vocabulary = {word for word, count in word_counts.items() if count >= threshold}\n",
    "    vocabulary.add('UNK')  # Add the OOV token\n",
    "    return vocabulary\n",
    "\n",
    "def replace_rare_with_unk(text, vocabulary):\n",
    "    if pd.isna(text):\n",
    "        return \" \"\n",
    "    text = text.strip()  # Remove leading/trailing spaces\n",
    "    words = text.split()\n",
    "    processed_words = [word if word in vocabulary else 'UNK' for word in words]\n",
    "    return \" \".join(processed_words)\n",
    "\n",
    "# Function to replace OOV words in text\n",
    "def replace_oov(text, vocabulary):\n",
    "    words = text.split()\n",
    "    return ' '.join([word if word in vocabulary else 'UNK' for word in words])\n",
    "\n",
    "# Function to count OOV words in a dataset\n",
    "def count_oov_words(dataset, column, vocabulary):\n",
    "    oov_count = 0\n",
    "    for text in dataset[column]:\n",
    "        words = text.split()\n",
    "        oov_words = [word for word in words if word == 'UNK' or word not in vocabulary]\n",
    "        oov_count += len(oov_words)\n",
    "    return oov_count\n",
    "\n",
    "# Function to build unique vocabulary from n-grams\n",
    "def build_ngram_vocabulary(column_data, threshold):\n",
    "    all_ngrams = set()\n",
    "    for ngrams_list in column_data:\n",
    "        all_ngrams.update(ngrams_list)\n",
    "    ngram_counts = Counter(all_ngrams)\n",
    "    return {ngram for ngram, count in ngram_counts.items() if count >= threshold}\n",
    "\n",
    "# Function to generate n-grams\n",
    "def generate_ngrams(text, n):\n",
    "    if pd.isna(text) or text == \"EMPTY\":\n",
    "        return []\n",
    "    words = word_tokenize(text.lower())\n",
    "    n_grams = list(ngrams(words, n))\n",
    "    return [\" \".join(gram) for gram in n_grams]"
   ]
  },
  {
   "cell_type": "markdown",
   "metadata": {},
   "source": [
    "Generate n-grams(e.g., bigrams, trigrams)"
   ]
  },
  {
   "cell_type": "code",
   "execution_count": 7,
   "metadata": {},
   "outputs": [
    {
     "name": "stdout",
     "output_type": "stream",
     "text": [
      "..................................\n",
      "Processing PreProcd_Introduction in dataset...\n",
      "Vocabulary Size for PreProcd_Introduction (unigrams): 21398\n",
      "Unique Bigrams Vocabulary Size for PreProcd_Introduction (dataset): 73205\n",
      "Unique Trigrams Vocabulary Size for PreProcd_Introduction (dataset): 100439\n",
      "..................................\n"
     ]
    }
   ],
   "source": [
    "# Process each column in the dataset specified in columns_to_process\n",
    "for column in columns_to_process:\n",
    "    print(f\"..................................\")\n",
    "    print(f\"Processing {column} in dataset...\")  # Log the start of processing for the current column\n",
    "    \n",
    "    # Step 1: Build a plain unigram vocabulary\n",
    "    # This creates a vocabulary of unique words (unigrams) in the column with a frequency threshold of 1\n",
    "    vocabulary = build_vocabulary(dataset[column], threshold=1)\n",
    "    print(f\"Vocabulary Size for {column} (unigrams): {len(vocabulary)}\")  # Log the size of the unigram vocabulary\n",
    "    \n",
    "    # Step 2: Generate bigrams and trigrams for the column\n",
    "    # Use the generate_ngrams function to create bigrams (n=2) and trigrams (n=3) for each text entry in the column\n",
    "    dataset[f'Bigrams_{column}'] = [generate_ngrams(text, 2) for text in dataset[column]]\n",
    "    dataset[f'Trigrams_{column}'] = [generate_ngrams(text, 3) for text in dataset[column]]\n",
    "    \n",
    "    # Step 3: Build unique n-gram vocabularies for bigrams and trigrams\n",
    "    # Creates vocabularies of unique bigrams and trigrams with a frequency threshold of 1\n",
    "    bigram_vocab = build_ngram_vocabulary(dataset[f'Bigrams_{column}'], threshold=1)\n",
    "    trigram_vocab = build_ngram_vocabulary(dataset[f'Trigrams_{column}'], threshold=1)\n",
    "    \n",
    "    # Step 4: Log the sizes of the bigram and trigram vocabularies\n",
    "    print(f\"Unique Bigrams Vocabulary Size for {column} (dataset): {len(bigram_vocab)}\")  # Log bigram vocabulary size\n",
    "    print(f\"Unique Trigrams Vocabulary Size for {column} (dataset): {len(trigram_vocab)}\")  # Log trigram vocabulary size\n",
    "    print(f\"..................................\")"
   ]
  },
  {
   "cell_type": "code",
   "execution_count": 8,
   "metadata": {},
   "outputs": [
    {
     "name": "stdout",
     "output_type": "stream",
     "text": [
      "\n",
      "Processed n-grams for dataset:\n",
      "Sample Bigrams_PreProcd_Introduction:\n",
      "0    [the canadian, canadian society, society of, o...\n",
      "2    [ralitsa b, b vassileva, vassileva bulgarian, ...\n",
      "4    [topal is, is a, a turkish, turkish word, word...\n",
      "5    [eduardo jumisse, jumisse commonly, commonly k...\n",
      "7    [legoland sichuan, sichuan is, is an, an upcom...\n",
      "Name: Bigrams_PreProcd_Introduction, dtype: object\n",
      "Sample Trigrams_PreProcd_Introduction:\n",
      "0    [the canadian society, canadian society of, so...\n",
      "2    [ralitsa b vassileva, b vassileva bulgarian, v...\n",
      "4    [topal is a, is a turkish, a turkish word, tur...\n",
      "5    [eduardo jumisse commonly, jumisse commonly kn...\n",
      "7    [legoland sichuan is, sichuan is an, is an upc...\n",
      "Name: Trigrams_PreProcd_Introduction, dtype: object\n"
     ]
    }
   ],
   "source": [
    "# Display processed n-grams for the dataset\n",
    "print(\"\\nProcessed n-grams for dataset:\")\n",
    "for column in columns_to_process:\n",
    "    # Print a sample of the generated bigrams for the current column\n",
    "    print(f\"Sample Bigrams_{column}:\\n{dataset[f'Bigrams_{column}'].head()}\")  \n",
    "    \n",
    "    # Print a sample of the generated trigrams for the current column\n",
    "    print(f\"Sample Trigrams_{column}:\\n{dataset[f'Trigrams_{column}'].head()}\")  "
   ]
  },
  {
   "cell_type": "markdown",
   "metadata": {},
   "source": [
    "***Step 3: Model & Understanding***"
   ]
  },
  {
   "cell_type": "markdown",
   "metadata": {},
   "source": [
    "Implementing Laplace Smoothing\n",
    "Laplace Smoothing adds a small constant - alpha = 1 to all n-gram counts."
   ]
  },
  {
   "cell_type": "code",
   "execution_count": 9,
   "metadata": {},
   "outputs": [],
   "source": [
    "# Lists to store the new column names for bigrams and trigrams\n",
    "Bigrams_columns_to_process_Train = []\n",
    "Trigrams_columns_to_process_Train = []\n",
    "\n",
    "for column in columns_to_process:\n",
    "    # Create bigram and trigram column names\n",
    "    Bigrams_columns_to_process_Train.append(f'Bigrams_{column}')\n",
    "    Trigrams_columns_to_process_Train.append(f'Trigrams_{column}')"
   ]
  },
  {
   "cell_type": "markdown",
   "metadata": {},
   "source": [
    "Laplace Smoothing Function"
   ]
  },
  {
   "cell_type": "code",
   "execution_count": 10,
   "metadata": {},
   "outputs": [],
   "source": [
    "# Define Laplace smoothing function\n",
    "def laplace_smoothing(ngram_counts, vocab_size, n, alpha):\n",
    "    \"\"\"\n",
    "    Apply Laplace smoothing to n-gram counts to calculate smoothed probabilities.\n",
    "\n",
    "    Parameters:\n",
    "    - ngram_counts (dict): A dictionary with n-grams as keys and their counts as values.\n",
    "    - vocab_size (int): The size of the vocabulary (unique unigrams).\n",
    "    - n (int): The size of the n-grams (e.g., 1 for unigram, 2 for bigram).\n",
    "    - alpha (float): The smoothing parameter; typically set to 1 for standard Laplace smoothing.\n",
    "\n",
    "    Returns:\n",
    "    - laplace_probs (dict): A dictionary with n-grams as keys and their smoothed probabilities as values.\n",
    "    \"\"\"\n",
    "\n",
    "    # Initialize an empty dictionary to store smoothed probabilities\n",
    "    laplace_probs = {}\n",
    "\n",
    "    # Calculate the total denominator for smoothing\n",
    "    # Total count includes the original counts and the smoothing term\n",
    "    total_count = sum(ngram_counts.values()) + alpha * (vocab_size ** n)\n",
    "\n",
    "    # Log the breakdown of terms for debugging and understanding\n",
    "    print(f\"Total Count: {sum(ngram_counts.values())}, Smoothing Term: {alpha * (vocab_size ** n)}, Denominator: {total_count}\")\n",
    "\n",
    "    # Calculate the smoothed probability for each n-gram\n",
    "    for ngram, count in ngram_counts.items():\n",
    "        # Add alpha to the original count (Laplace smoothing numerator)\n",
    "        numerator = count + alpha\n",
    "\n",
    "        # Compute the smoothed probability\n",
    "        prob = numerator / total_count\n",
    "\n",
    "        # Store the smoothed probability in the dictionary\n",
    "        laplace_probs[ngram] = prob\n",
    "\n",
    "    # Return the dictionary of smoothed probabilities\n",
    "    return laplace_probs\n"
   ]
  },
  {
   "cell_type": "code",
   "execution_count": 11,
   "metadata": {},
   "outputs": [
    {
     "name": "stdout",
     "output_type": "stream",
     "text": [
      "Small constant alpha is: 1\n",
      "***********************************\n",
      "bigram_counts for PreProcd_Introduction: 73205\n",
      "bigram_vocabulary size for PreProcd_Introduction: 73205\n",
      "V_vocabulary size for PreProcd_Introduction: 56\n",
      "Total Count: 121716, Smoothing Term: 3136, Denominator: 124852\n",
      "Number of Laplace-smoothed probabilities for Bigrams: 73205\n",
      "***********************************\n",
      "Sample Laplace-smoothed probabilities for Bigrams:\n",
      "the canadian: 0.0001521801813347003\n",
      "canadian society: 1.6018966456284242e-05\n",
      "society of: 9.611379873770544e-05\n",
      "of soil: 2.402844968442636e-05\n",
      "soil science: 2.402844968442636e-05\n",
      "***********************************\n",
      "trigram_counts for PreProcd_Introduction: 100439\n",
      "trigram_vocabulary size for PreProcd_Introduction: 100439\n",
      "V_vocabulary size for PreProcd_Introduction: 56\n",
      "Total Count: 118807, Smoothing Term: 175616, Denominator: 294423\n",
      "Number of Laplace-smoothed probabilities for Trigrams: 100439\n",
      "***********************************\n",
      "Sample Laplace-smoothed probabilities for Trigrams:\n",
      "the canadian society: 6.792947561841297e-06\n",
      "canadian society of: 6.792947561841297e-06\n",
      "society of soil: 6.792947561841297e-06\n",
      "of soil science: 1.0189421342761945e-05\n",
      "soil science csss: 6.792947561841297e-06\n"
     ]
    }
   ],
   "source": [
    "# Apply Laplace smoothing for all relevant columns\n",
    "smoothed_probs = {}\n",
    "\n",
    "# Set alpha parameter (smoothing strength)\n",
    "alphas = [1]\n",
    "\n",
    "for alpha in alphas:\n",
    "\n",
    "    print(\"Small constant alpha is:\",alpha)\n",
    "    print(\"***********************************\")\n",
    "    # Calculate Laplace-smoothed probabilities for bigrams\n",
    "    for column in columns_to_process:\n",
    "        #filtered_unigram_vocabulary = [word for word, count in unigram_counts.items() if count > 2]\n",
    "        V_vocabulary = build_vocabulary(dataset[column], threshold=150)\n",
    "        dataset[column] = dataset[column].apply(lambda text: replace_rare_with_unk(text, V_vocabulary))\n",
    "        bigram_vocabulary = build_ngram_vocabulary(dataset[f'Bigrams_{column}'], threshold=1)\n",
    "        bigram_counts = Counter([bigram for sublist in dataset[f'Bigrams_{column}'] for bigram in sublist if bigram in bigram_vocabulary])\n",
    "        print(f\"bigram_counts for {column}: {len(bigram_counts)}\")\n",
    "        print(f\"bigram_vocabulary size for {column}: {len(bigram_vocabulary)}\")\n",
    "        print(f\"V_vocabulary size for {column}: {len(V_vocabulary)}\")\n",
    "        laplace_probs = laplace_smoothing(bigram_counts, len(V_vocabulary), 2, alpha)\n",
    "        smoothed_probs[f'Bigrams_{column}'] = {\"Laplace\": laplace_probs}\n",
    "        bigram_probs = smoothed_probs[f'Bigrams_{column}'][\"Laplace\"]\n",
    "        print(f\"Number of Laplace-smoothed probabilities for Bigrams: {len(bigram_probs)}\")\n",
    "        print(\"***********************************\")\n",
    "        print(\"Sample Laplace-smoothed probabilities for Bigrams:\")\n",
    "        for ngram, prob in list(smoothed_probs[f'Bigrams_{column}'][\"Laplace\"].items())[:5]:\n",
    "            print(f\"{ngram}: {prob}\")\n",
    "\n",
    "    # Calculate Laplace-smoothed probabilities for trigrams\n",
    "    for column in columns_to_process:\n",
    "        print(\"***********************************\")\n",
    "        trigram_vocabulary = build_ngram_vocabulary(dataset[f'Trigrams_{column}'], threshold=1)\n",
    "        trigram_counts = Counter([trigram for sublist in dataset[f'Trigrams_{column}'] for trigram in sublist if trigram in trigram_vocabulary])\n",
    "        print(f\"trigram_counts for {column}: {len(trigram_counts)}\")\n",
    "        print(f\"trigram_vocabulary size for {column}: {len(trigram_vocabulary)}\")\n",
    "        print(f\"V_vocabulary size for {column}: {len(V_vocabulary)}\")\n",
    "        laplace_probs = laplace_smoothing(trigram_counts, len(V_vocabulary), 3, alpha)\n",
    "        smoothed_probs[f'Trigrams_{column}'] = {\"Laplace\": laplace_probs}\n",
    "        trigram_probs = smoothed_probs[f'Trigrams_{column}'][\"Laplace\"]\n",
    "        print(f\"Number of Laplace-smoothed probabilities for Trigrams: {len(trigram_probs)}\")\n",
    "        print(\"***********************************\")\n",
    "        print(\"Sample Laplace-smoothed probabilities for Trigrams:\")\n",
    "        for ngram, prob in list(smoothed_probs[f'Trigrams_{column}'][\"Laplace\"].items())[:5]:\n",
    "            print(f\"{ngram}: {prob}\")"
   ]
  },
  {
   "cell_type": "markdown",
   "metadata": {},
   "source": [
    "Implementing Kneser-Ney Smoothing\n",
    "Kneser-Ney Smoothing redistributes probabilities based on lower-order n-grams. "
   ]
  },
  {
   "cell_type": "code",
   "execution_count": 12,
   "metadata": {},
   "outputs": [],
   "source": [
    "def kneser_ney_smoothing(ngram_counts, lower_order_counts, discount, vocab_size):\n",
    "    # Total n-gram counts\n",
    "    total_ngrams = sum(ngram_counts.values())\n",
    "    \n",
    "    # Lower-order probabilities (continuation probabilities)\n",
    "    continuation_probs = {key: lower_order_counts.get(key, 0) / sum(lower_order_counts.values()) for key in lower_order_counts}\n",
    "\n",
    "    # Smoothed probabilities with backoff\n",
    "    kn_probs = {}\n",
    "    for ngram, count in ngram_counts.items():\n",
    "        prefix = ngram[:-1]  # Get the (n-1)-gram prefix\n",
    "        continuation_prob = continuation_probs.get(ngram[-1], 1 / vocab_size)  # Backoff to lower-order prob if needed\n",
    "        \n",
    "        # Discounted count\n",
    "        discounted_count = max(count - discount, 0)\n",
    "        \n",
    "        # Compute smoothed probability with backoff\n",
    "        lower_order_prob = continuation_probs.get(prefix[-1], 1 / vocab_size) if prefix else 1 / vocab_size\n",
    "        kn_probs[ngram] = (\n",
    "            discounted_count / total_ngrams\n",
    "            + (discount / total_ngrams) * continuation_prob\n",
    "            + lower_order_prob * (1 - discounted_count / total_ngrams)  # Backoff contribution\n",
    "        )\n",
    "\n",
    "    return kn_probs"
   ]
  },
  {
   "cell_type": "markdown",
   "metadata": {},
   "source": [
    "Discount value for Kneser-Ney Smoothing = 0.7"
   ]
  },
  {
   "cell_type": "code",
   "execution_count": 13,
   "metadata": {},
   "outputs": [
    {
     "name": "stdout",
     "output_type": "stream",
     "text": [
      "Sample Kneser-Ney smoothed probabilities for bigrams in PreProcd_Introduction:\n",
      "the canadian: 0.03013829372122348\n",
      "canadian society: 0.017859666295779873\n",
      "society of: 0.017940357647544865\n",
      "of soil: 0.01786773543095637\n",
      "soil science: 0.01786773543095637\n",
      "Sample Kneser-Ney smoothed probabilities for trigrams in PreProcd_Introduction:\n",
      "the canadian society: 1.6185418838442195e-05\n",
      "canadian society of: 1.6185418838442195e-05\n",
      "society of soil: 1.6185418838442195e-05\n",
      "of soil science: 2.46023163253823e-05\n",
      "soil science csss: 1.6185418838442195e-05\n"
     ]
    }
   ],
   "source": [
    "discount = 0.7 # Discount value for Kneser-Ney Smoothing\n",
    "\n",
    "# Calculate smoothed probabilities for bigrams\n",
    "for column in columns_to_process:\n",
    "    bigram_counts = Counter([bigram for sublist in dataset[f'Bigrams_{column}'] for bigram in sublist])\n",
    "    unigram_counts = Counter([unigram for sublist in dataset[column] for unigram in sublist.split()])\n",
    "    \n",
    "    kn_probs = kneser_ney_smoothing(bigram_counts, unigram_counts, discount, len(unigram_counts))\n",
    "    smoothed_probs[f'Bigrams_{column}'].update({\"Kneser-Ney\": kn_probs})\n",
    "\n",
    "    # Print sample of smoothed probabilities for bigrams\n",
    "    print(f\"Sample Kneser-Ney smoothed probabilities for bigrams in {column}:\")\n",
    "    for ngram, prob in list(kn_probs.items())[:5]:  # Show the first 5 for brevity\n",
    "        print(f\"{ngram}: {prob}\")\n",
    "\n",
    "# Calculate smoothed probabilities for trigrams\n",
    "for column in columns_to_process:\n",
    "    trigram_counts = Counter([trigram for sublist in dataset[f'Trigrams_{column}'] for trigram in sublist])\n",
    "    bigram_counts = Counter([bigram for sublist in dataset[f'Bigrams_{column}'] for bigram in sublist])\n",
    "    \n",
    "    kn_probs = kneser_ney_smoothing(trigram_counts, bigram_counts, discount, len(bigram_counts))\n",
    "    smoothed_probs[f'Trigrams_{column}'].update({\"Kneser-Ney\": kn_probs})\n",
    "    \n",
    "    # Print sample of smoothed probabilities for trigrams\n",
    "    print(f\"Sample Kneser-Ney smoothed probabilities for trigrams in {column}:\")\n",
    "    for ngram, prob in list(kn_probs.items())[:5]:  # Show the first 5 for brevity\n",
    "        print(f\"{ngram}: {prob}\")"
   ]
  },
  {
   "cell_type": "markdown",
   "metadata": {},
   "source": [
    "Evaluating Performance\n",
    "You can evaluate the performance of both smoothing techniques using metrics like perplexity."
   ]
  },
  {
   "cell_type": "markdown",
   "metadata": {},
   "source": [
    "Perplexity function - Initialization"
   ]
  },
  {
   "cell_type": "code",
   "execution_count": 14,
   "metadata": {},
   "outputs": [],
   "source": [
    "def calculate_perplexity(test_ngrams, smoothed_probs, n, vocab_size, alpha=1):\n",
    "    log_perplexity = 0\n",
    "    N = 0\n",
    "    # Dynamically compute unseen probability based on vocab size\n",
    "    unseen_prob = alpha / vocab_size if vocab_size > 0 else 1e-12\n",
    "    for ngram_list in test_ngrams:\n",
    "        for ngram in ngram_list:\n",
    "            # Use smoothed probability or fallback probability for unseen n-grams\n",
    "            prob = smoothed_probs.get(ngram, unseen_prob)\n",
    "            log_perplexity += -math.log(prob)\n",
    "            N += 1\n",
    "    if N == 0:\n",
    "        print(\"Warning: Empty test data for perplexity calculation.\")\n",
    "        return float('inf')\n",
    "    return math.exp(log_perplexity / N)"
   ]
  },
  {
   "cell_type": "markdown",
   "metadata": {},
   "source": [
    "Preprocessing and Vocabulary Handling for Test Data with N-gram Generation and OOV Management"
   ]
  },
  {
   "cell_type": "markdown",
   "metadata": {},
   "source": [
    "Preprocessing Test Data: Applying preprocessing steps to clean and prepare test data for further analysis.\n",
    "Building and Comparing Vocabularies: Constructing test set vocabularies, handling out-of-vocabulary (OOV) words, and comparing them with training set vocabularies.\n",
    "N-gram Generation: Creating bigrams and trigrams from the test data.\n",
    "Handling OOV Words: Replacing rare or unseen words in the test data with an UNK token, counting OOV words, and analyzing the impact on the vocabulary size.\n",
    "Logging and Debugging: Displaying intermediate results, including processed columns, vocabulary sizes, and n-gram vocabularies, to ensure correctness."
   ]
  },
  {
   "cell_type": "code",
   "execution_count": 15,
   "metadata": {},
   "outputs": [
    {
     "name": "stdout",
     "output_type": "stream",
     "text": [
      "PreProcd_Introduction\n",
      "Introduction\n",
      "Processed Columns:\n",
      "                               PreProcd_Introduction\n",
      "0  seasonal forests with deciduous tree coverage ...\n",
      "1  medical advancements such as image analysis so...\n",
      "2  historical narratives about prominent figures ...\n",
      "*******\n",
      "Vocabulary Size for PreProcd_Introduction (Test Set): 486\n",
      "Number of OOV words in the test set for PreProcd_Introduction: 160\n",
      "Vocabulary Size for PreProcd_Introduction after adding OOV in (Test Set): 391\n",
      "Unique Bigrams Vocabulary Size for PreProcd_Introduction in (testset): 948\n",
      "Unique Trigrams Vocabulary Size for PreProcd_Introduction in (testset): 1018\n",
      "..................................\n",
      "..................................\n",
      "\n",
      "Test Set with OOV Handling:\n",
      "Sample from PreProcd_Introduction_OOV:\n",
      "0    seasonal forests with deciduous tree UNK adapt...\n",
      "1    medical advancements such as image analysis so...\n",
      "2    historical UNK about prominent figures in gove...\n",
      "3    the study of ancient UNK through archaeologica...\n",
      "4    mathematical UNK and computational models form...\n",
      "Name: PreProcd_Introduction_OOV, dtype: object\n"
     ]
    }
   ],
   "source": [
    "#Preprocess test data\n",
    "for column in columns_to_process:\n",
    "    print(column) \n",
    "    testset_column = column.replace('PreProcd_', '')\n",
    "    print(testset_column)\n",
    "    testset[column] = testset[testset_column].apply(data_preprocess)\n",
    "    #    Display the processed train and test columns\n",
    "    print(\"Processed Columns:\")\n",
    "    print(testset[[f'{column}']][0:3])\n",
    "\n",
    "# Apply for each column to process\n",
    "for column in columns_to_process:\n",
    "    print(\"*******\")\n",
    "    test_vocabulary = build_vocabulary(testset[column], threshold=1)\n",
    "    print(f\"Vocabulary Size for {column} (Test Set): {len(test_vocabulary)}\")\n",
    "\n",
    "    # Replace OOV words in the test set\n",
    "    testset[f'{column}_OOV'] = [replace_oov(text, vocabulary) for text in testset[column]]\n",
    "\n",
    "    # Count OOV words in the test set\n",
    "    test_oov_count = count_oov_words(testset, f'{column}_OOV', vocabulary)\n",
    "    print(f\"Number of OOV words in the test set for {column}: {test_oov_count}\")\n",
    "\n",
    "    # Print the vocabulary size after adding OOV\n",
    "    oov_vocabulary_test = build_vocabulary(testset[f'{column}_OOV'], threshold=1)\n",
    "    print(f\"Vocabulary Size for {column} after adding OOV in (Test Set): {len(oov_vocabulary_test)}\")\n",
    "\n",
    "    # Generate bigrams and trigrams\n",
    "    testset[f'Bigrams_{column}'] = [generate_ngrams(text, 2) for text in testset[column]]\n",
    "    testset[f'Trigrams_{column}'] = [generate_ngrams(text, 3) for text in testset[column]]\n",
    "    \n",
    "    # Build unique n-gram vocabularies\n",
    "    bigram_vocab = build_ngram_vocabulary(testset[f'Bigrams_{column}'], threshold=1)\n",
    "    trigram_vocab = build_ngram_vocabulary(testset[f'Trigrams_{column}'], threshold=1)\n",
    "    \n",
    "    # Log vocabulary sizes\n",
    "    print(f\"Unique Bigrams Vocabulary Size for {column} in (testset): {len(bigram_vocab)}\")\n",
    "    print(f\"Unique Trigrams Vocabulary Size for {column} in (testset): {len(trigram_vocab)}\")\n",
    "    print(f\"..................................\")\n",
    "    print(f\"..................................\")\n",
    "\n",
    "# Display test set with OOV handling\n",
    "print(\"\\nTest Set with OOV Handling:\")\n",
    "for column in columns_to_process:\n",
    "    print(f\"Sample from {column}_OOV:\\n{testset[f'{column}_OOV'].head()}\")"
   ]
  },
  {
   "cell_type": "markdown",
   "metadata": {},
   "source": [
    "Evaluation of Smoothing techniques"
   ]
  },
  {
   "cell_type": "code",
   "execution_count": 16,
   "metadata": {},
   "outputs": [],
   "source": [
    "# Initialize lists to store column names for bigrams and trigrams in the test data\n",
    "Bigrams_columns_to_process_Test = []\n",
    "Trigrams_columns_to_process_Test = []\n",
    "\n",
    "# Generate column names for bigrams and trigrams based on the columns to process\n",
    "for column in columns_to_process:\n",
    "    Bigrams_columns_to_process_Test.append(f'Bigrams_{column}')  # Append bigram column name\n",
    "    Trigrams_columns_to_process_Test.append(f'Trigrams_{column}')  # Append trigram column name\n",
    "\n",
    "# Unified evaluation loop for calculating perplexity using Laplace and Kneser-Ney smoothing\n",
    "results = {}  # Dictionary to store results for each column and n-gram type\n",
    "for ngram_type, columns in [(\"Bigrams\", Bigrams_columns_to_process_Test),  # Process bigrams\n",
    "                            (\"Trigrams\", Trigrams_columns_to_process_Test)]:  # Process trigrams\n",
    "    for column in columns:\n",
    "        \n",
    "        train_column = column  # Use the same column name from the training set for probabilities\n",
    "\n",
    "        # Evaluate perplexity using Laplace smoothing\n",
    "        laplace_perplexity = calculate_perplexity(\n",
    "            testset[column],  # Test data for the current n-gram column\n",
    "            smoothed_probs[train_column].get('Laplace', {}),  # Smoothed probabilities from training\n",
    "            2 if ngram_type == \"Bigrams\" else 3,  # Specify n (2 for bigrams, 3 for trigrams)\n",
    "            len(V_vocabulary)  # Vocabulary size\n",
    "        )\n",
    "        \n",
    "        # Initialize the results dictionary for the current column if not already created\n",
    "        if column not in results:\n",
    "            results[column] = {}\n",
    "        \n",
    "        # Store Laplace perplexity for the current column\n",
    "        results[column][\"Laplace Perplexity\"] = laplace_perplexity\n",
    "\n",
    "        # Evaluate perplexity using Kneser-Ney smoothing (if available)\n",
    "        if 'Kneser-Ney' in smoothed_probs[train_column]:\n",
    "            kneser_ney_perplexity = calculate_perplexity(\n",
    "                testset[column],  # Test data for the current n-gram column\n",
    "                smoothed_probs[train_column].get('Kneser-Ney', {}),  # Smoothed probabilities from training\n",
    "                2 if ngram_type == \"Bigrams\" else 3,  # Specify n (2 for bigrams, 3 for trigrams)\n",
    "                len(V_vocabulary)  # Vocabulary size\n",
    "            )\n",
    "            # Store Kneser-Ney perplexity for the current column\n",
    "            results[column][\"Kneser-Ney Perplexity\"] = kneser_ney_perplexity\n"
   ]
  },
  {
   "cell_type": "markdown",
   "metadata": {},
   "source": [
    "Print results"
   ]
  },
  {
   "cell_type": "code",
   "execution_count": 17,
   "metadata": {},
   "outputs": [
    {
     "name": "stdout",
     "output_type": "stream",
     "text": [
      "Bigrams_PreProcd_Introduction:\n",
      " Laplace Perplexity: 216.84166262485783\n",
      " Kneser-Ney Perplexity: 55.072319281748115\n",
      "Trigrams_PreProcd_Introduction:\n",
      " Laplace Perplexity: 70.8971073828322\n",
      " Kneser-Ney Perplexity: 68.98097529518408\n",
      "*******************************************\n",
      "\n",
      "Probability values for Bigrams_PreProcd_Introduction:\n",
      " Laplace Smoothing:\n",
      "  the canadian: 0.0001521801813347003\n",
      "  canadian society: 1.6018966456284242e-05\n",
      "  society of: 9.611379873770544e-05\n",
      "  of soil: 2.402844968442636e-05\n",
      "  soil science: 2.402844968442636e-05\n",
      " Kneser-Ney Smoothing:\n",
      "  the canadian: 0.03013829372122348\n",
      "  canadian society: 0.017859666295779873\n",
      "  society of: 0.017940357647544865\n",
      "  of soil: 0.01786773543095637\n",
      "  soil science: 0.01786773543095637\n",
      "\n",
      "Probability values for Trigrams_PreProcd_Introduction:\n",
      " Laplace Smoothing:\n",
      "  the canadian society: 6.792947561841297e-06\n",
      "  canadian society of: 6.792947561841297e-06\n",
      "  society of soil: 6.792947561841297e-06\n",
      "  of soil science: 1.0189421342761945e-05\n",
      "  soil science csss: 6.792947561841297e-06\n",
      " Kneser-Ney Smoothing:\n",
      "  the canadian society: 1.6185418838442195e-05\n",
      "  canadian society of: 1.6185418838442195e-05\n",
      "  society of soil: 1.6185418838442195e-05\n",
      "  of soil science: 2.46023163253823e-05\n",
      "  soil science csss: 1.6185418838442195e-05\n"
     ]
    }
   ],
   "source": [
    "# Loop through the results dictionary to print perplexity values for each column\n",
    "for column, result in results.items():\n",
    "    # Print the column name\n",
    "    print(f\"{column}:\")\n",
    "    \n",
    "    # Print the Laplace perplexity value for the column\n",
    "    print(f\" Laplace Perplexity: {result['Laplace Perplexity']}\")\n",
    "    \n",
    "    # Check if Kneser-Ney perplexity exists for the column and print it\n",
    "    if 'Kneser-Ney Perplexity' in result:\n",
    "        print(f\" Kneser-Ney Perplexity: {result['Kneser-Ney Perplexity']}\")\n",
    "        \n",
    "print(\"*******************************************\")\n",
    "# Print smoothed probability samples for each column\n",
    "for column, probs in smoothed_probs.items():\n",
    "    print(f\"\\nProbability values for {column}:\")  # Print column name for context\n",
    "    \n",
    "    # Check if Laplace smoothing probabilities exist and print sample values\n",
    "    if 'Laplace' in probs:\n",
    "        print(\" Laplace Smoothing:\")  # Label for Laplace smoothing\n",
    "        # Extract and print a sample (from 10th to 15th) of Laplace smoothed probabilities\n",
    "        laplace_sample_probs = list(probs['Laplace'].items())[:5]\n",
    "        for ngram, prob in laplace_sample_probs:\n",
    "            print(f\"  {ngram}: {prob}\")  # Print n-gram and its smoothed probability\n",
    "    \n",
    "    # Check if Kneser-Ney smoothing probabilities exist and print sample values\n",
    "    if 'Kneser-Ney' in probs:\n",
    "        print(\" Kneser-Ney Smoothing:\")  # Label for Kneser-Ney smoothing\n",
    "        # Extract and print a sample (from 10th to 15th) of Kneser-Ney smoothed probabilities\n",
    "        kneser_ney_sample_probs = list(probs['Kneser-Ney'].items())[:5]\n",
    "        for ngram, prob in kneser_ney_sample_probs:\n",
    "            print(f\"  {ngram}: {prob}\")  # Print n-gram and its smoothed probability\n"
   ]
  },
  {
   "cell_type": "markdown",
   "metadata": {},
   "source": [
    "Visualization Charts of Probabilty and Perplexity values - First 100 values"
   ]
  },
  {
   "cell_type": "markdown",
   "metadata": {},
   "source": [
    "Probabilities Chart"
   ]
  },
  {
   "cell_type": "code",
   "execution_count": 18,
   "metadata": {},
   "outputs": [
    {
     "data": {
      "image/png": "[encoded data removed]",
      "text/plain": [
       "<Figure size 800x600 with 1 Axes>"
      ]
     },
     "metadata": {},
     "output_type": "display_data"
    },
    {
     "data": {
      "image/png": "[encoded data removed]",
      "text/plain": [
       "<Figure size 800x600 with 1 Axes>"
      ]
     },
     "metadata": {},
     "output_type": "display_data"
    }
   ],
   "source": [
    "# Extracting the first 100 probabilities for Bigrams and Trigrams for both smoothing techniques\n",
    "laplace_sample_probs_bigrams = list(smoothed_probs['Bigrams_PreProcd_Introduction']['Laplace'].values())[:100]\n",
    "kneser_sample_probs_bigrams = list(smoothed_probs['Bigrams_PreProcd_Introduction']['Kneser-Ney'].values())[:100]\n",
    "\n",
    "laplace_sample_probs_trigrams = list(smoothed_probs['Trigrams_PreProcd_Introduction']['Laplace'].values())[:100]\n",
    "kneser_sample_probs_trigrams = list(smoothed_probs['Trigrams_PreProcd_Introduction']['Kneser-Ney'].values())[:100]\n",
    "\n",
    "# Plotting the probabilities for Bigrams with Logarithmic Scale\n",
    "fig, ax = plt.subplots(figsize=(8, 6))\n",
    "\n",
    "x_labels_bigrams = np.arange(1, len(laplace_sample_probs_bigrams) + 1)\n",
    "ax.plot(x_labels_bigrams, laplace_sample_probs_bigrams, label='Laplace (Bigrams)', color='blue', marker='o')\n",
    "ax.plot(x_labels_bigrams, kneser_sample_probs_bigrams, label='Kneser-Ney (Bigrams)', color='orange', marker='x')\n",
    "\n",
    "ax.set_xlabel('Bigram')\n",
    "ax.set_ylabel('Probability')\n",
    "ax.set_title('Probability Distribution for Bigrams: Laplace vs. Kneser-Ney')\n",
    "ax.set_yscale('log')  # Setting the y-axis to logarithmic scale for better visualization\n",
    "ax.legend()\n",
    "\n",
    "plt.show()\n",
    "\n",
    "# Plotting the probabilities for Trigrams with Logarithmic Scale\n",
    "fig, ax = plt.subplots(figsize=(8, 6))\n",
    "\n",
    "x_labels_trigrams = np.arange(1, len(laplace_sample_probs_trigrams) + 1)\n",
    "ax.plot(x_labels_trigrams, laplace_sample_probs_trigrams, label='Laplace (Trigrams)', color='blue', marker='o')\n",
    "ax.plot(x_labels_trigrams, kneser_sample_probs_trigrams, label='Kneser-Ney (Trigrams)', color='orange', marker='x')\n",
    "\n",
    "ax.set_xlabel('Trigram')\n",
    "ax.set_ylabel('Probability')\n",
    "ax.set_title('Probability Distribution for Trigrams: Laplace vs. Kneser-Ney')\n",
    "ax.set_yscale('log')  # Setting the y-axis to logarithmic scale for better visualization\n",
    "ax.legend()\n",
    "\n",
    "plt.show()\n"
   ]
  },
  {
   "cell_type": "markdown",
   "metadata": {},
   "source": [
    "Perplexity Chart"
   ]
  },
  {
   "cell_type": "code",
   "execution_count": 19,
   "metadata": {},
   "outputs": [
    {
     "data": {
      "image/png": "[encoded data removed]",
      "text/plain": [
       "<Figure size 800x600 with 1 Axes>"
      ]
     },
     "metadata": {},
     "output_type": "display_data"
    }
   ],
   "source": [
    "import matplotlib.pyplot as plt\n",
    "import numpy as np\n",
    "\n",
    "# Prepare the data for plotting\n",
    "columns = list(results.keys())\n",
    "laplace_perplexity = [result['Laplace Perplexity'] for result in results.values()]\n",
    "kneser_perplexity = [result.get('Kneser-Ney Perplexity', None) for result in results.values()]\n",
    "\n",
    "# Plotting the Perplexity values\n",
    "fig, ax = plt.subplots(figsize=(8, 6))\n",
    "\n",
    "# Plot the values\n",
    "ax.plot(columns, laplace_perplexity, label='Laplace Perplexity', color='blue', marker='o')\n",
    "ax.plot(columns, kneser_perplexity, label='Kneser-Ney Perplexity', color='orange', marker='x')\n",
    "\n",
    "# Adding labels and title\n",
    "ax.set_xlabel('N-gram Type')\n",
    "ax.set_ylabel('Perplexity')\n",
    "ax.set_title('Perplexity Comparison: Laplace vs. Kneser-Ney')\n",
    "ax.legend()\n",
    "\n",
    "# Show the plot\n",
    "plt.show()\n"
   ]
  },
  {
   "cell_type": "markdown",
   "metadata": {},
   "source": [
    "## Conclusion ##"
   ]
  },
  {
   "cell_type": "markdown",
   "metadata": {},
   "source": [
    "In this implementation, we analyzed and compared the performance of Laplace Smoothing and Kneser-Ney Smoothing on n-gram language models, focusing on their impact on perplexity values and probability calculations. The results reveal distinct differences in how these smoothing techniques handle data sparsity and unseen n-grams.\n",
    "\n",
    "**Perplexity Analysis**\n",
    "\n",
    "In this implementation, we evaluated the performance of Laplace Smoothing and Kneser-Ney Smoothing for bigram and trigram models, focusing on their impact on perplexity values and their ability to handle data sparsity and unseen n-grams.\n",
    "\n",
    "Laplace Smoothing:\n",
    "\n",
    "With an alpha value of 1, Laplace smoothing assigned small non-zero probabilities to all n-grams, ensuring that unseen n-grams did not receive zero probability. For bigrams, Laplace smoothing produced a perplexity of 216.84, a relatively high value indicating its struggle to handle data sparsity effectively. The uniform addition of probabilities penalized frequent n-grams, inflating the perplexity.\n",
    "For trigrams, however, Laplace smoothing achieved a perplexity of 70.89, which is significantly lower than for bigrams. This improvement can be attributed to the increased context provided by trigrams, which reduced the reliance on smoothing by increasing the likelihood of observed n-grams. While the performance of Laplace smoothing improved for trigrams, it remained slightly higher than Kneser-Ney.\n",
    "\n",
    "Kneser-Ney Smoothing:\n",
    "\n",
    "Using a discount factor of 0.7, Kneser-Ney smoothing excelled in redistributing probabilities by leveraging lower-order n-grams and introducing context-aware adjustments through discounted counts and continuation factors. This led to significantly reduced perplexity values compared to Laplace smoothing, particularly for bigrams, where the perplexity was 55.07. This lower value reflects Kneser-Ney's strength in handling data sparsity by dynamically adjusting probabilities and efficiently backing off to lower-order models for unseen n-grams.\n",
    "For trigrams, Kneser-Ney produced a perplexity of 68.98, which is slightly better than Laplace but shows a smaller margin of improvement. The close proximity of perplexity values for Laplace and Kneser-Ney in trigrams suggests that the dataset already contained sufficient context for trigrams, reducing the overall impact of smoothing techniques.\n",
    "\n",
    "Key Observations:\n",
    "\n",
    "Bigram Performance:\n",
    "\n",
    "Laplace Smoothing (216.84): High perplexity due to over-reliance on uniform probability redistribution to handle sparsity.\n",
    "Kneser-Ney Smoothing (55.07): Demonstrates superior handling of data sparsity with significantly lower perplexity, leveraging advanced smoothing mechanisms.\n",
    "\n",
    "Trigram Performance:\n",
    "\n",
    "Laplace Smoothing (70.89): Improved performance compared to bigrams due to reduced sparsity with increased context.\n",
    "Kneser-Ney Smoothing (68.98): Marginally better perplexity than Laplace, reflecting its robustness while highlighting that trigrams in this dataset require less smoothing overall.\n",
    "\n",
    "Threshold and Its Importance:\n",
    "A threshold of 150 was applied to filter rare words from the vocabulary. Words appearing fewer than 150 times were replaced with the UNK token.\n",
    "\n",
    "Impact of Threshold:\n",
    "    Filtering rare words reduced data sparsity, allowing the model to focus on frequent n-grams that contribute more to generalization.\n",
    "    Replacing rare words with UNK ensured that unseen words were handled uniformly, preventing zero probabilities during evaluation.\n",
    "\n",
    "**Probability Calculations:**\n",
    "\n",
    "Laplace Smoothing:\n",
    "\n",
    "Probabilities were calculated by adding 1 (alpha) to each n-gram count and dividing by the adjusted total count. While effective in assigning probabilities to unseen n-grams, this approach uniformly penalized frequent n-grams, leading to higher perplexity.\n",
    "Example Probability (Bigrams): 1.6e-05 for most rare n-grams, reflecting its uniform smoothing approach.\n",
    "\n",
    "Kneser-Ney Smoothing:\n",
    "\n",
    "Probabilities were adjusted using:\n",
    "Discounted Counts: A fixed discount factor (0.7) reduced the weight of observed n-grams.\n",
    "Continuation Factor: Assigned higher probabilities to rare n-grams based on their unique contexts.\n",
    "Backoff: Leveraged lower-order n-grams for unseen combinations, ensuring robust handling of sparsity.\n",
    "Example Probability (Bigrams): 0.0179, reflecting more context-aware smoothing.\n",
    "\n",
    "Key Observations:\n",
    "\n",
    "Laplace Smoothing:\n",
    "    Provides a simple approach to handling unseen n-grams but struggles with higher perplexity values due to uniform probability redistribution.\n",
    "\n",
    "Kneser-Ney Smoothing:\n",
    "    Outperforms Laplace by leveraging *discounted counts*, *backoff*, and *continuation factors* to assign probabilities dynamically, resulting in lower perplexity values and better handling of rare n-grams.\n",
    "\n",
    "**Kneser-Ney Smoothing** is more effective than Laplace smoothing, as evidenced by its significantly lower perplexity values for bigrams and slightly better performance for trigrams. The use of a threshold and the UNK token further enhanced the model’s ability to handle rare and unseen n-grams, reducing data sparsity. However, Laplace smoothing demonstrated a notable improvement in trigrams, where the availability of additional context reduced the need for smoothing, allowing it to achieve perplexity values comparable to Kneser-Ney. These results emphasize the robustness of Kneser-Ney Smoothing while also highlighting how Laplace Smoothing can benefit from larger contexts in specific scenarios."
   ]
  }
 ],
 "metadata": {
  "kernelspec": {
   "display_name": "Python 3",
   "language": "python",
   "name": "python3"
  },
  "language_info": {
   "codemirror_mode": {
    "name": "ipython",
    "version": 3
   },
   "file_extension": ".py",
   "mimetype": "text/x-python",
   "name": "python",
   "nbconvert_exporter": "python",
   "pygments_lexer": "ipython3",
   "version": "3.11.5"
  }
 },
 "nbformat": 4,
 "nbformat_minor": 2
}
